{
 "cells": [
  {
   "cell_type": "code",
   "execution_count": 8,
   "metadata": {},
   "outputs": [],
   "source": [
    "import numpy as np\n",
    "import matplotlib.pyplot as plt\n"
   ]
  },
  {
   "cell_type": "code",
   "execution_count": 9,
   "metadata": {},
   "outputs": [],
   "source": [
    "speed1 = 60\n",
    "speed2 = 80\n",
    "distance = 100\n",
    "speed1m = speed1 / 60\n",
    "speed2m = speed2 / 60\n",
    "time = distance / (speed1m + speed2m)"
   ]
  },
  {
   "cell_type": "code",
   "execution_count": 7,
   "metadata": {},
   "outputs": [
    {
     "name": "stdout",
     "output_type": "stream",
     "text": [
      "Время встречи: 42.86 минут\n"
     ]
    }
   ],
   "source": [
    "print(\"Время встречи:\", round(time,2), \"минут\")"
   ]
  },
  {
   "cell_type": "code",
   "execution_count": null,
   "metadata": {},
   "outputs": [],
   "source": [
    "time_arr = np.linspace(0, time, 1000)\n",
    "distance_arr = distance - (speed1m + speed2m) * time_arr\n",
    "\n",
    "plt.plot(time_arr, distance_arr)\n",
    "plt.xlabel(\"Время\")\n",
    "plt.ylabel(\"Расстояние\")\n",
    "plt.title(\"Зависимость расстояния от времени\")\n",
    "plt.show()"
   ]
  }
 ],
 "metadata": {
  "kernelspec": {
   "display_name": "Python 3",
   "language": "python",
   "name": "python3"
  },
  "language_info": {
   "codemirror_mode": {
    "name": "ipython",
    "version": 3
   },
   "file_extension": ".py",
   "mimetype": "text/x-python",
   "name": "python",
   "nbconvert_exporter": "python",
   "pygments_lexer": "ipython3",
   "version": "3.8.3"
  }
 },
 "nbformat": 4,
 "nbformat_minor": 4
}
